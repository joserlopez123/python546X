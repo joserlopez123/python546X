{
 "cells": [
  {
   "cell_type": "markdown",
   "metadata": {},
   "source": [
    "\n",
    "     # Jose Python Assignment\n",
    "     \n",
    "     ## Istall Biopython\n"
   ]
  },
  {
   "cell_type": "code",
   "execution_count": 2,
   "metadata": {},
   "outputs": [],
   "source": [
    "from Bio import SeqIO\n",
    "from Bio.Seq import Seq\n",
    "from Bio.Alphabet import IUPAC\n",
    "from Bio.Data import CodonTable\n",
    "from Bio.SeqUtils.ProtParam import ProteinAnalysis\n",
    "from Bio.SeqUtils import GC\n",
    "import pandas as pd\n",
    "import matplotlib.pyplot as plt\n",
    "import numpy as np\n",
    "import seaborn as sns"
   ]
  },
  {
   "cell_type": "markdown",
   "metadata": {},
   "source": [
    "#sources\n",
    "\n",
    "https://www.biostars.org/p/77442/ ### fasta file extractions\n",
    "\n",
    "https://biopython.org/wiki/SeqIO ### Biopython SeqIO website\n",
    "\n",
    "https://stackoverflow.com/questions/19410042/how-to-make-ipython-notebook-matplotlib-plot-inline ### matplot \n",
    "\n",
    "https://pandas.pydata.org/pandas-docs/stable/generated/pandas.DataFrame.groupby.html ### group by function\n",
    "\n",
    "https://seaborn.pydata.org/generated/seaborn.lmplot.html ### seaborn plot \n",
    "\n",
    "https://canvas.iastate.edu/courses/52516/assignments/701333 ### seaborn plot \n",
    "\n",
    "\n",
    "\n",
    "\n",
    "https://eeob-biodata.github.io/EEOB-BCB-546X/schedule.html \n",
    "\n",
    "Week 9\n",
    "October 15-19\n",
    "\n",
    "Lecture 14: Introduction to Python [website]\n",
    "Lecture 15: Introduction to Python Datatypes and Packages [website]\n",
    "Week 10\n",
    "October 24-26\n",
    "\n",
    "Lecture 16: Working With Pandas DataFrames in Python [website]\n",
    "Lecture 17:\n",
    "Summarizing DataFrames [website]\n",
    "Indexing, Slicing, Subsetting, and Iterating DataFrames in Python [website]\n",
    "Week 11\n",
    "October 31 - November 2\n",
    "\n",
    "Lecture 18:\n",
    "Changing Values in a DataFrame [website]\n",
    "Visualizing Data in Python [website]\n",
    "Lecture 19: Visualizing Data in Python, continued [website]\n",
    "Week 12\n",
    "November 7 - 9\n",
    "\n",
    "Lecture 20: Introduction to BioPython [slides]\n",
    "Lecture 21: More BioPython [slides]\n",
    "\n",
    "\n"
   ]
  },
  {
   "cell_type": "markdown",
   "metadata": {},
   "source": [
    "### FUNCTIONS ###"
   ]
  },
  {
   "cell_type": "markdown",
   "metadata": {},
   "source": [
    "#-- Functions --#\n",
    "## 1. \n"
   ]
  },
  {
   "cell_type": "code",
   "execution_count": 3,
   "metadata": {},
   "outputs": [],
   "source": [
    "def get_sequences_from_file(fasta_fn): ##Extract sequence from a fast file\n",
    "    sequence_data_dict = {} ##build a sequence data dictionary where you can add stuff\n",
    "    for record in SeqIO.parse(fasta_fn, \"fasta\"): # use Biopython SeqIO to loop in the fasta file \n",
    "        description = record.description.split() # splits and saves a stings, names it  discription  \n",
    "        species_name = description[1] + \" \" + description[2] # looks like we are pulling out the species name from part 1 and 2 on the discription file we created \n",
    "        sequence_data_dict[species_name] = record.seq #add speciaes name to to thedictionary created \n",
    "    return(sequence_data_dict)# return the new dictionary"
   ]
  },
  {
   "cell_type": "markdown",
   "metadata": {},
   "source": [
    "## 2 ##\n"
   ]
  },
  {
   "cell_type": "code",
   "execution_count": 18,
   "metadata": {},
   "outputs": [],
   "source": [
    "def translate_function(string_nucleotides): \n",
    "    DNA_string=str(string_nucleotides)\n",
    "    mito_table = CodonTable.unambiguous_dna_by_name[\"Vertebrate Mitochondrial\"]## read in the translation table\n",
    "    aa_seq_string = \"\" ## create an empty string for aa\n",
    "    for i in [0, len(DNA_string), 3]: ## read through codons on the string, stop at a stop codon, every 3rd position in string_nucleotides to get the codon\n",
    "        codon = DNA_string[i:i+3]\n",
    "        if codon in [\"TAA\", \"TAG\", \"AGA\", \"AGG\"]: ## tells the code to stop translating if their is a stop codon \n",
    "            break\n",
    "        else:\n",
    "            aa_seq_string += mito_table.forward_table[codon]\n",
    "    return(aa_seq_string) ## we then retun the amino acid sequence of our aa string \n"
   ]
  },
  {
   "cell_type": "markdown",
   "metadata": {},
   "source": [
    "## 3 ##\n"
   ]
  },
  {
   "cell_type": "code",
   "execution_count": 19,
   "metadata": {},
   "outputs": [],
   "source": [
    "def alt_translate_fxn(string_nucleotides): ## uses biopython to define the function\n",
    "    DNAcode = Seq(str(string_nucleotides), IUPAC.unambiguous_dna) ## create a Seq object\n",
    "    aa_protine_string = DNAcode.translate(table = \"Vertebrate Mitochondrial\", to_stop = True) ## translates the vertebrate mitocondrial table using seq biopython functions\n",
    "    return (aa_protine_string) ## returns the translated amino acid sequence\n"
   ]
  },
  {
   "cell_type": "markdown",
   "metadata": {},
   "source": [
    "## 4 ##\n"
   ]
  },
  {
   "cell_type": "code",
   "execution_count": 20,
   "metadata": {},
   "outputs": [],
   "source": [
    "def compute_molecular_weight(aa_seq): # define aa as string\n",
    "    analysed_aa_seq =ProteinAnalysis(aa_seq) # you can analize the protine sequence with ProteinAnalysis()\n",
    "    return(analysed_aa_seq.molecular_weight()) # .molecular_weight() will give you the value of the molecuular weight in a specific sequence "
   ]
  },
  {
   "cell_type": "markdown",
   "metadata": {},
   "source": [
    "## 5 ##\n",
    "####### YOUR GC CONTENT ANALYSIS FUNCTION ########\n",
    "## Write a function that calculates the GC-content (proportion of \"G\" and \"C\") of each DNA sequence and returns this value.\n",
    "\n",
    "\n"
   ]
  },
  {
   "cell_type": "markdown",
   "metadata": {},
   "source": [
    "#%%%%%%%%%%%%%%#\n",
    "###   MAIN   ###\n",
    "#%%%%%%%%%%%%%%#\n",
    "\n",
    "cytb_seqs = get_sequences_from_file(\"bears_cytb.fasta\") \n",
    "\n",
    "bears_df = pd.read_csv(\"bears_mass.csv\") # Includes only data for body mass \n",
    "species_list = list(bears_df.species)"
   ]
  },
  {
   "cell_type": "code",
   "execution_count": 21,
   "metadata": {},
   "outputs": [],
   "source": [
    "def GC_content(DNA_string): # define function\n",
    "    return((DNA_string.count(\"C\")+DNA_string.count(\"G\"))/(len(DNA_string)))"
   ]
  },
  {
   "cell_type": "markdown",
   "metadata": {},
   "source": [
    "## 6 ## \n",
    "## Add two new columns to the bears DataFrame: (1) molecular weight and (2) GC content.\n",
    "## Set the value to 'NaN' to indicate that these cells are currently empty."
   ]
  },
  {
   "cell_type": "code",
   "execution_count": 24,
   "metadata": {},
   "outputs": [
    {
     "data": {
      "text/html": [
       "<div>\n",
       "<style scoped>\n",
       "    .dataframe tbody tr th:only-of-type {\n",
       "        vertical-align: middle;\n",
       "    }\n",
       "\n",
       "    .dataframe tbody tr th {\n",
       "        vertical-align: top;\n",
       "    }\n",
       "\n",
       "    .dataframe thead th {\n",
       "        text-align: right;\n",
       "    }\n",
       "</style>\n",
       "<table border=\"1\" class=\"dataframe\">\n",
       "  <thead>\n",
       "    <tr style=\"text-align: right;\">\n",
       "      <th></th>\n",
       "      <th>species</th>\n",
       "      <th>mass</th>\n",
       "      <th>M_W</th>\n",
       "      <th>GC_content</th>\n",
       "    </tr>\n",
       "  </thead>\n",
       "  <tbody>\n",
       "    <tr>\n",
       "      <th>0</th>\n",
       "      <td>Ursus spelaeus</td>\n",
       "      <td>550.800</td>\n",
       "      <td>NaN</td>\n",
       "      <td>NaN</td>\n",
       "    </tr>\n",
       "    <tr>\n",
       "      <th>1</th>\n",
       "      <td>Ursus arctos</td>\n",
       "      <td>203.500</td>\n",
       "      <td>NaN</td>\n",
       "      <td>NaN</td>\n",
       "    </tr>\n",
       "    <tr>\n",
       "      <th>2</th>\n",
       "      <td>Ursus thibetanus</td>\n",
       "      <td>99.714</td>\n",
       "      <td>NaN</td>\n",
       "      <td>NaN</td>\n",
       "    </tr>\n",
       "    <tr>\n",
       "      <th>3</th>\n",
       "      <td>Melursus ursinus</td>\n",
       "      <td>100.030</td>\n",
       "      <td>NaN</td>\n",
       "      <td>NaN</td>\n",
       "    </tr>\n",
       "    <tr>\n",
       "      <th>4</th>\n",
       "      <td>Ursus americanus</td>\n",
       "      <td>110.560</td>\n",
       "      <td>NaN</td>\n",
       "      <td>NaN</td>\n",
       "    </tr>\n",
       "    <tr>\n",
       "      <th>5</th>\n",
       "      <td>Helarctos malayanus</td>\n",
       "      <td>47.020</td>\n",
       "      <td>NaN</td>\n",
       "      <td>NaN</td>\n",
       "    </tr>\n",
       "    <tr>\n",
       "      <th>6</th>\n",
       "      <td>Ailuropoda melanoleuca</td>\n",
       "      <td>118.200</td>\n",
       "      <td>NaN</td>\n",
       "      <td>NaN</td>\n",
       "    </tr>\n",
       "    <tr>\n",
       "      <th>7</th>\n",
       "      <td>Tremarctos ornatus</td>\n",
       "      <td>140.700</td>\n",
       "      <td>NaN</td>\n",
       "      <td>NaN</td>\n",
       "    </tr>\n",
       "    <tr>\n",
       "      <th>8</th>\n",
       "      <td>Ursus maritimus</td>\n",
       "      <td>425.100</td>\n",
       "      <td>NaN</td>\n",
       "      <td>NaN</td>\n",
       "    </tr>\n",
       "  </tbody>\n",
       "</table>\n",
       "</div>"
      ],
      "text/plain": [
       "                  species     mass  M_W GC_content\n",
       "0          Ursus spelaeus  550.800  NaN        NaN\n",
       "1            Ursus arctos  203.500  NaN        NaN\n",
       "2        Ursus thibetanus   99.714  NaN        NaN\n",
       "3        Melursus ursinus  100.030  NaN        NaN\n",
       "4        Ursus americanus  110.560  NaN        NaN\n",
       "5     Helarctos malayanus   47.020  NaN        NaN\n",
       "6  Ailuropoda melanoleuca  118.200  NaN        NaN\n",
       "7      Tremarctos ornatus  140.700  NaN        NaN\n",
       "8         Ursus maritimus  425.100  NaN        NaN"
      ]
     },
     "execution_count": 24,
     "metadata": {},
     "output_type": "execute_result"
    }
   ],
   "source": [
    "cytb_seqs = get_sequences_from_file(\"bears_cytb.fasta\") \n",
    "bears_df = pd.read_csv(\"bears_mass.csv\") \n",
    "species_list = list(bears_df.species)\n",
    "\n",
    "for index, row in bears_df.iterrows(): \n",
    "    bears_df.loc[index, 'M_W']='NaN' \n",
    "    bears_df.loc[index, 'GC_content']='NaN' \n",
    "bears_df "
   ]
  },
  {
   "cell_type": "markdown",
   "metadata": {},
   "source": [
    "## 7 ##\n"
   ]
  },
  {
   "cell_type": "code",
   "execution_count": 25,
   "metadata": {},
   "outputs": [
    {
     "data": {
      "text/html": [
       "<div>\n",
       "<style scoped>\n",
       "    .dataframe tbody tr th:only-of-type {\n",
       "        vertical-align: middle;\n",
       "    }\n",
       "\n",
       "    .dataframe tbody tr th {\n",
       "        vertical-align: top;\n",
       "    }\n",
       "\n",
       "    .dataframe thead th {\n",
       "        text-align: right;\n",
       "    }\n",
       "</style>\n",
       "<table border=\"1\" class=\"dataframe\">\n",
       "  <thead>\n",
       "    <tr style=\"text-align: right;\">\n",
       "      <th></th>\n",
       "      <th>species</th>\n",
       "      <th>mass</th>\n",
       "      <th>M_W</th>\n",
       "      <th>GC_content</th>\n",
       "    </tr>\n",
       "  </thead>\n",
       "  <tbody>\n",
       "    <tr>\n",
       "      <th>0</th>\n",
       "      <td>Ursus spelaeus</td>\n",
       "      <td>550.800</td>\n",
       "      <td>42458.8</td>\n",
       "      <td>0.437719</td>\n",
       "    </tr>\n",
       "    <tr>\n",
       "      <th>1</th>\n",
       "      <td>Ursus arctos</td>\n",
       "      <td>203.500</td>\n",
       "      <td>42414.7</td>\n",
       "      <td>0.437719</td>\n",
       "    </tr>\n",
       "    <tr>\n",
       "      <th>2</th>\n",
       "      <td>Ursus thibetanus</td>\n",
       "      <td>99.714</td>\n",
       "      <td>42306.7</td>\n",
       "      <td>0.45614</td>\n",
       "    </tr>\n",
       "    <tr>\n",
       "      <th>3</th>\n",
       "      <td>Melursus ursinus</td>\n",
       "      <td>100.030</td>\n",
       "      <td>42552</td>\n",
       "      <td>0.451754</td>\n",
       "    </tr>\n",
       "    <tr>\n",
       "      <th>4</th>\n",
       "      <td>Ursus americanus</td>\n",
       "      <td>110.560</td>\n",
       "      <td>42427.7</td>\n",
       "      <td>0.439474</td>\n",
       "    </tr>\n",
       "    <tr>\n",
       "      <th>5</th>\n",
       "      <td>Helarctos malayanus</td>\n",
       "      <td>47.020</td>\n",
       "      <td>42560.9</td>\n",
       "      <td>0.442982</td>\n",
       "    </tr>\n",
       "    <tr>\n",
       "      <th>6</th>\n",
       "      <td>Ailuropoda melanoleuca</td>\n",
       "      <td>118.200</td>\n",
       "      <td>42702.2</td>\n",
       "      <td>0.407895</td>\n",
       "    </tr>\n",
       "    <tr>\n",
       "      <th>7</th>\n",
       "      <td>Tremarctos ornatus</td>\n",
       "      <td>140.700</td>\n",
       "      <td>42384.8</td>\n",
       "      <td>0.44386</td>\n",
       "    </tr>\n",
       "    <tr>\n",
       "      <th>8</th>\n",
       "      <td>Ursus maritimus</td>\n",
       "      <td>425.100</td>\n",
       "      <td>42454.8</td>\n",
       "      <td>0.442982</td>\n",
       "    </tr>\n",
       "  </tbody>\n",
       "</table>\n",
       "</div>"
      ],
      "text/plain": [
       "                  species     mass      M_W GC_content\n",
       "0          Ursus spelaeus  550.800  42458.8   0.437719\n",
       "1            Ursus arctos  203.500  42414.7   0.437719\n",
       "2        Ursus thibetanus   99.714  42306.7    0.45614\n",
       "3        Melursus ursinus  100.030    42552   0.451754\n",
       "4        Ursus americanus  110.560  42427.7   0.439474\n",
       "5     Helarctos malayanus   47.020  42560.9   0.442982\n",
       "6  Ailuropoda melanoleuca  118.200  42702.2   0.407895\n",
       "7      Tremarctos ornatus  140.700  42384.8    0.44386\n",
       "8         Ursus maritimus  425.100  42454.8   0.442982"
      ]
     },
     "execution_count": 25,
     "metadata": {},
     "output_type": "execute_result"
    }
   ],
   "source": [
    "for key, value in cytb_seqs.items(): \n",
    "    aa_seq_string =alt_translate_fxn(value) \n",
    "    mw=compute_molecular_weight(str(aa_seq_string)) \n",
    "    GC=GC_content(value) \n",
    "    for index, row in bears_df.iterrows(): \n",
    "        if bears_df.loc[index, \"species\"]==key:\n",
    "            bears_df.loc[index, \"GC_content\"]=GC \n",
    "            bears_df.loc[index, \"M_W\"]=mw\n",
    "bears_df"
   ]
  },
  {
   "cell_type": "markdown",
   "metadata": {},
   "source": [
    "## 8 ##\n",
    "## Plot a bar-chart of the mass with the x-axes labeled with species names.\n",
    "## *Q1* What is the largest bear species? \n",
    "The largest bear species is spelaeus\n",
    "## *Q2* What else is interesting about this species?\n",
    "It is way bigger than 50% of the other bears "
   ]
  },
  {
   "cell_type": "code",
   "execution_count": 26,
   "metadata": {},
   "outputs": [
    {
     "data": {
      "text/plain": [
       "Text(0.5,1,'Bear species mass')"
      ]
     },
     "execution_count": 26,
     "metadata": {},
     "output_type": "execute_result"
    },
    {
     "data": {
      "image/png": "[encoded data removed]",
      "text/plain": [
       "<Figure size 432x288 with 1 Axes>"
      ]
     },
     "metadata": {
      "needs_background": "light"
     },
     "output_type": "display_data"
    }
   ],
   "source": [
    "%matplotlib inline\n",
    "bears_df.groupby('species')[\"mass\"].describe()['mean'].plot(kind=\"bar\")\n",
    "plt.xlabel('Species')\n",
    "plt.ylabel('Mass')\n",
    "plt.title('Bear species mass')"
   ]
  },
  {
   "cell_type": "markdown",
   "metadata": {},
   "source": [
    "## 9 ##\n",
    "## Plot a visualization of the molecular weight (y-axis) as a function of GC-content (x-axis)."
   ]
  },
  {
   "cell_type": "code",
   "execution_count": 31,
   "metadata": {},
   "outputs": [
    {
     "data": {
      "text/plain": [
       "Text(49.7842,0.5,'Molecular_weight')"
      ]
     },
     "execution_count": 31,
     "metadata": {},
     "output_type": "execute_result"
    },
    {
     "data": {
      "image/png": "[encoded data removed]",
      "text/plain": [
       "<Figure size 517.125x360 with 1 Axes>"
      ]
     },
     "metadata": {
      "needs_background": "light"
     },
     "output_type": "display_data"
    }
   ],
   "source": [
    "sns.lmplot(\"GC_content\", \"M_W\", data=bears_df, fit_reg=False, \n",
    "           scatter_kws={'alpha':0.3,\"s\": 50}, hue='species') \n",
    "plt.title('Weight as a function of GC')\n",
    "plt.xlabel('GCcontent')\n",
    "plt.ylabel('Molecular_weight')"
   ]
  },
  {
   "cell_type": "markdown",
   "metadata": {},
   "source": [
    "## 10 ##\n",
    "## Save the new DataFrame to a file called \"bears_mass_cytb.csv\""
   ]
  },
  {
   "cell_type": "code",
   "execution_count": null,
   "metadata": {},
   "outputs": [],
   "source": [
    "bears_df.to_csv(\"bears_mass_cytb.csv\")"
   ]
  },
  {
   "cell_type": "markdown",
   "metadata": {},
   "source": [
    "## 11 - BONUS ##\n",
    "## What else can we do with this dataset in Python? \n",
    "## Add functions or anything that might be interesting and fun. (optional)"
   ]
  },
  {
   "cell_type": "code",
   "execution_count": 82,
   "metadata": {},
   "outputs": [
    {
     "data": {
      "text/plain": [
       "Text(45.6378,0.5,'GC_content')"
      ]
     },
     "execution_count": 82,
     "metadata": {},
     "output_type": "execute_result"
    },
    {
     "data": {
      "image/png": "[encoded data removed]",
      "text/plain": [
       "<Figure size 517.125x360 with 1 Axes>"
      ]
     },
     "metadata": {
      "needs_background": "light"
     },
     "output_type": "display_data"
    }
   ],
   "source": [
    "sns.lmplot(x=\"M_W\", y=\"GC_content\", data=bears_df, fit_reg=False, \n",
    "           scatter_kws={'alpha':0.3,\"s\": 50}, hue='species',logistic=True,y_jitter=.03) \n",
    "plt.title('GC as a function of Weight')\n",
    "plt.xlabel('Molecular_weight')\n",
    "plt.ylabel('GC_content')"
   ]
  },
  {
   "cell_type": "code",
   "execution_count": 53,
   "metadata": {},
   "outputs": [
    {
     "data": {
      "text/plain": [
       "Text(0.5,1,'Bear M_W')"
      ]
     },
     "execution_count": 53,
     "metadata": {},
     "output_type": "execute_result"
    },
    {
     "data": {
      "image/png": "[encoded data removed]",
      "text/plain": [
       "<Figure size 432x288 with 1 Axes>"
      ]
     },
     "metadata": {
      "needs_background": "light"
     },
     "output_type": "display_data"
    }
   ],
   "source": [
    "bears_df.groupby('M_W')[\"mass\"].describe()['mean'].plot(kind=\"box\")\n",
    "plt.xlabel('Species molecular weight')\n",
    "plt.ylabel('Mass')\n",
    "plt.title('Bear M_W')"
   ]
  },
  {
   "cell_type": "code",
   "execution_count": 59,
   "metadata": {},
   "outputs": [
    {
     "data": {
      "text/plain": [
       "Text(0.5,1,'Bear G_C content')"
      ]
     },
     "execution_count": 59,
     "metadata": {},
     "output_type": "execute_result"
    },
    {
     "data": {
      "image/png": "[encoded data removed]",
      "text/plain": [
       "<Figure size 432x288 with 1 Axes>"
      ]
     },
     "metadata": {
      "needs_background": "light"
     },
     "output_type": "display_data"
    }
   ],
   "source": [
    "bears_df.groupby('GC_content')[\"mass\"].describe()['mean'].plot(kind=\"box\")\n",
    "plt.xlabel('Species molecular weight')\n",
    "plt.ylabel('Mass')\n",
    "plt.title('Bear G_C content')"
   ]
  },
  {
   "cell_type": "code",
   "execution_count": 68,
   "metadata": {},
   "outputs": [
    {
     "data": {
      "text/plain": [
       "Text(0.5,1,'Bear species mass')"
      ]
     },
     "execution_count": 68,
     "metadata": {},
     "output_type": "execute_result"
    },
    {
     "data": {
      "image/png": "[encoded data removed]",
      "text/plain": [
       "<Figure size 432x288 with 1 Axes>"
      ]
     },
     "metadata": {},
     "output_type": "display_data"
    }
   ],
   "source": [
    "bears_df.groupby('species')[\"mass\"].describe()['mean'].plot(kind=\"pie\")\n",
    "plt.title('Bear species mass')"
   ]
  },
  {
   "cell_type": "code",
   "execution_count": 73,
   "metadata": {},
   "outputs": [
    {
     "data": {
      "text/plain": [
       "Text(0.5,1,'Bear M_W')"
      ]
     },
     "execution_count": 73,
     "metadata": {},
     "output_type": "execute_result"
    },
    {
     "data": {
      "image/png": "[encoded data removed]",
      "text/plain": [
       "<Figure size 432x288 with 1 Axes>"
      ]
     },
     "metadata": {
      "needs_background": "light"
     },
     "output_type": "display_data"
    }
   ],
   "source": [
    "bears_df.groupby('species')[\"mass\"].describe()['mean'].plot(kind=\"line\")\n",
    "plt.xlabel('Species molecular weight')\n",
    "plt.ylabel('Mass')\n",
    "plt.title('Bear M_W')"
   ]
  }
 ],
 "metadata": {
  "kernelspec": {
   "display_name": "Python 3",
   "language": "python",
   "name": "python3"
  },
  "language_info": {
   "codemirror_mode": {
    "name": "ipython",
    "version": 3
   },
   "file_extension": ".py",
   "mimetype": "text/x-python",
   "name": "python",
   "nbconvert_exporter": "python",
   "pygments_lexer": "ipython3",
   "version": "3.7.0"
  }
 },
 "nbformat": 4,
 "nbformat_minor": 2
}
